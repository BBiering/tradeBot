{
 "cells": [
  {
   "cell_type": "markdown",
   "metadata": {},
   "source": [
    "# Advanced Portfolio Optimization using cvxpy"
   ]
  },
  {
   "cell_type": "markdown",
   "metadata": {},
   "source": [
    "## Install cvxpy and other libraries"
   ]
  },
  {
   "cell_type": "code",
   "execution_count": 1,
   "metadata": {},
   "outputs": [
    {
     "name": "stdout",
     "output_type": "stream",
     "text": [
      "Requirement already satisfied: colour==0.1.5 in /opt/conda/lib/python3.6/site-packages (from -r requirements.txt (line 1)) (0.1.5)\n",
      "Collecting cvxpy==1.0.3 (from -r requirements.txt (line 2))\n",
      "\u001b[?25l  Downloading https://files.pythonhosted.org/packages/a1/59/2613468ffbbe3a818934d06b81b9f4877fe054afbf4f99d2f43f398a0b34/cvxpy-1.0.3.tar.gz (880kB)\n",
      "\u001b[K    100% |████████████████████████████████| 880kB 8.7MB/s eta 0:00:01    81% |██████████████████████████      | 716kB 14.3MB/s eta 0:00:01\n",
      "\u001b[?25hRequirement already satisfied: cycler==0.10.0 in /opt/conda/lib/python3.6/site-packages/cycler-0.10.0-py3.6.egg (from -r requirements.txt (line 3)) (0.10.0)\n",
      "Collecting numpy==1.14.5 (from -r requirements.txt (line 4))\n",
      "\u001b[?25l  Downloading https://files.pythonhosted.org/packages/68/1e/116ad560de97694e2d0c1843a7a0075cc9f49e922454d32f49a80eb6f1f2/numpy-1.14.5-cp36-cp36m-manylinux1_x86_64.whl (12.2MB)\n",
      "\u001b[K    100% |████████████████████████████████| 12.2MB 1.4MB/s eta 0:00:01  4% |█▍                              | 542kB 13.6MB/s eta 0:00:01    9% |███                             | 1.2MB 12.5MB/s eta 0:00:01    14% |████▊                           | 1.8MB 12.9MB/s eta 0:00:01    20% |██████▍                         | 2.4MB 12.4MB/s eta 0:00:01    25% |████████                        | 3.0MB 15.7MB/s eta 0:00:01    34% |███████████▏                    | 4.2MB 12.6MB/s eta 0:00:01    39% |████████████▊                   | 4.9MB 13.2MB/s eta 0:00:01    56% |██████████████████              | 6.8MB 16.4MB/s eta 0:00:01    61% |███████████████████▊            | 7.5MB 13.5MB/s eta 0:00:01    67% |█████████████████████▌          | 8.2MB 10.6MB/s eta 0:00:01    77% |████████████████████████▊       | 9.4MB 13.2MB/s eta 0:00:01    87% |████████████████████████████    | 10.6MB 13.5MB/s eta 0:00:01\n",
      "\u001b[?25hCollecting pandas==0.21.1 (from -r requirements.txt (line 5))\n",
      "\u001b[?25l  Downloading https://files.pythonhosted.org/packages/3a/e1/6c514df670b887c77838ab856f57783c07e8760f2e3d5939203a39735e0e/pandas-0.21.1-cp36-cp36m-manylinux1_x86_64.whl (26.2MB)\n",
      "\u001b[K    100% |████████████████████████████████| 26.2MB 763kB/s ta 0:00:011  2% |▉                               | 665kB 11.0MB/s eta 0:00:03    5% |█▋                              | 1.3MB 27.5MB/s eta 0:00:01    12% |████                            | 3.3MB 26.7MB/s eta 0:00:01    17% |█████▌                          | 4.5MB 26.4MB/s eta 0:00:01    19% |██████▏                         | 5.1MB 8.3MB/s eta 0:00:03    23% |███████▋                        | 6.3MB 13.4MB/s eta 0:00:02    26% |████████▍                       | 6.9MB 12.1MB/s eta 0:00:02    28% |█████████                       | 7.4MB 26.3MB/s eta 0:00:01    33% |██████████▋                     | 8.7MB 12.1MB/s eta 0:00:02    35% |███████████▍                    | 9.3MB 27.3MB/s eta 0:00:01    37% |████████████                    | 9.9MB 26.3MB/s eta 0:00:01    42% |█████████████▋                  | 11.2MB 25.4MB/s eta 0:00:01    47% |███████████████                 | 12.4MB 12.6MB/s eta 0:00:02    49% |████████████████                | 13.0MB 12.9MB/s eta 0:00:02    58% |██████████████████▊             | 15.3MB 23.9MB/s eta 0:00:01    60% |███████████████████▍            | 15.9MB 13.7MB/s eta 0:00:01    69% |██████████████████████          | 18.1MB 25.1MB/s eta 0:00:01    71% |██████████████████████▊         | 18.7MB 13.2MB/s eta 0:00:01    76% |████████████████████████▍       | 20.0MB 13.7MB/s eta 0:00:01    87% |████████████████████████████▏   | 23.1MB 8.3MB/s eta 0:00:01    90% |████████████████████████████▉   | 23.7MB 25.0MB/s eta 0:00:01    94% |██████████████████████████████▎ | 24.8MB 24.0MB/s eta 0:00:01\n",
      "\u001b[?25hCollecting plotly==2.2.3 (from -r requirements.txt (line 6))\n",
      "\u001b[?25l  Downloading https://files.pythonhosted.org/packages/99/a6/8214b6564bf4ace9bec8a26e7f89832792be582c042c47c912d3201328a0/plotly-2.2.3.tar.gz (1.1MB)\n",
      "\u001b[K    100% |████████████████████████████████| 1.1MB 8.9MB/s eta 0:00:01    88% |████████████████████████████▌   | 962kB 13.7MB/s eta 0:00:01\n",
      "\u001b[?25hRequirement already satisfied: pyparsing==2.2.0 in /opt/conda/lib/python3.6/site-packages (from -r requirements.txt (line 7)) (2.2.0)\n",
      "Requirement already satisfied: python-dateutil==2.6.1 in /opt/conda/lib/python3.6/site-packages (from -r requirements.txt (line 8)) (2.6.1)\n",
      "Requirement already satisfied: pytz==2017.3 in /opt/conda/lib/python3.6/site-packages (from -r requirements.txt (line 9)) (2017.3)\n",
      "Requirement already satisfied: requests==2.18.4 in /opt/conda/lib/python3.6/site-packages (from -r requirements.txt (line 10)) (2.18.4)\n",
      "Collecting scipy==1.0.0 (from -r requirements.txt (line 11))\n",
      "\u001b[?25l  Downloading https://files.pythonhosted.org/packages/d8/5e/caa01ba7be11600b6a9d39265440d7b3be3d69206da887c42bef049521f2/scipy-1.0.0-cp36-cp36m-manylinux1_x86_64.whl (50.0MB)\n",
      "\u001b[K    100% |████████████████████████████████| 50.0MB 428kB/s ta 0:00:011  0% |▏                               | 184kB 11.4MB/s eta 0:00:05    1% |▍                               | 686kB 22.8MB/s eta 0:00:03    5% |█▉                              | 2.8MB 11.8MB/s eta 0:00:04    7% |██▌                             | 3.9MB 17.4MB/s eta 0:00:03    8% |██▉                             | 4.4MB 24.0MB/s eta 0:00:02    9% |███▏                            | 4.9MB 21.8MB/s eta 0:00:03    11% |███▊                            | 5.9MB 7.6MB/s eta 0:00:06    12% |████                            | 6.4MB 23.0MB/s eta 0:00:02    14% |████▊                           | 7.4MB 23.7MB/s eta 0:00:02    16% |█████▍                          | 8.5MB 22.4MB/s eta 0:00:02    23% |███████▋                        | 12.0MB 11.6MB/s eta 0:00:04    24% |████████                        | 12.4MB 9.0MB/s eta 0:00:05    28% |█████████▏                      | 14.4MB 10.2MB/s eta 0:00:04    30% |█████████▊                      | 15.2MB 8.2MB/s eta 0:00:05    33% |██████████▊                     | 16.8MB 17.4MB/s eta 0:00:02    34% |███████████                     | 17.3MB 9.7MB/s eta 0:00:04    35% |███████████▍                    | 17.8MB 10.7MB/s eta 0:00:04    36% |███████████▊                    | 18.3MB 11.3MB/s eta 0:00:03    37% |████████████                    | 18.8MB 21.6MB/s eta 0:00:02    40% |█████████████                   | 20.3MB 9.0MB/s eta 0:00:04    41% |█████████████▎                  | 20.8MB 9.5MB/s eta 0:00:04    43% |█████████████▉                  | 21.7MB 9.5MB/s eta 0:00:03    44% |██████████████▏                 | 22.1MB 10.9MB/s eta 0:00:03    45% |██████████████▍                 | 22.5MB 11.2MB/s eta 0:00:03    51% |████████████████▍               | 25.6MB 9.9MB/s eta 0:00:03    51% |████████████████▋               | 26.0MB 10.8MB/s eta 0:00:03    52% |████████████████▉               | 26.4MB 7.3MB/s eta 0:00:04    53% |█████████████████               | 26.7MB 9.5MB/s eta 0:00:03    54% |█████████████████▍              | 27.2MB 8.8MB/s eta 0:00:03    55% |█████████████████▋              | 27.6MB 17.9MB/s eta 0:00:02    56% |██████████████████▏             | 28.4MB 13.0MB/s eta 0:00:02    57% |██████████████████▌             | 28.9MB 9.5MB/s eta 0:00:03    58% |██████████████████▊             | 29.2MB 9.7MB/s eta 0:00:03    59% |███████████████████             | 29.7MB 11.7MB/s eta 0:00:02    60% |███████████████████▎            | 30.2MB 20.9MB/s eta 0:00:01    61% |███████████████████▌            | 30.5MB 21.3MB/s eta 0:00:01    61% |███████████████████▉            | 31.0MB 10.4MB/s eta 0:00:02    62% |████████████████████            | 31.4MB 7.3MB/s eta 0:00:03    63% |████████████████████▍           | 31.8MB 10.0MB/s eta 0:00:02    64% |████████████████████▊           | 32.4MB 20.6MB/s eta 0:00:01    65% |█████████████████████           | 32.8MB 9.8MB/s eta 0:00:02    66% |█████████████████████▎          | 33.3MB 9.4MB/s eta 0:00:02    67% |█████████████████████▋          | 33.8MB 11.5MB/s eta 0:00:02    68% |██████████████████████          | 34.3MB 11.1MB/s eta 0:00:02    69% |██████████████████████▏         | 34.7MB 7.7MB/s eta 0:00:02    72% |███████████████████████         | 36.1MB 9.3MB/s eta 0:00:02    73% |███████████████████████▍        | 36.5MB 13.3MB/s eta 0:00:02    74% |███████████████████████▊        | 37.1MB 12.3MB/s eta 0:00:02    75% |████████████████████████        | 37.7MB 9.7MB/s eta 0:00:02    76% |████████████████████████▌       | 38.2MB 13.0MB/s eta 0:00:01    77% |█████████████████████████       | 39.0MB 1.1MB/s eta 0:00:10    78% |█████████████████████████▎      | 39.5MB 9.8MB/s eta 0:00:02    79% |█████████████████████████▋      | 40.0MB 10.6MB/s eta 0:00:01    81% |██████████████████████████      | 40.5MB 12.8MB/s eta 0:00:01    82% |██████████████████████████▌     | 41.5MB 8.2MB/s eta 0:00:02    83% |██████████████████████████▉     | 42.0MB 10.9MB/s eta 0:00:01    88% |████████████████████████████▎   | 44.1MB 7.9MB/s eta 0:00:01    91% |█████████████████████████████▏  | 45.6MB 12.2MB/s eta 0:00:01    92% |█████████████████████████████▌  | 46.1MB 10.6MB/s eta 0:00:01    93% |██████████████████████████████  | 46.8MB 9.0MB/s eta 0:00:01    94% |██████████████████████████████▎ | 47.3MB 11.7MB/s eta 0:00:01    95% |██████████████████████████████▊ | 47.9MB 12.5MB/s eta 0:00:01    97% |███████████████████████████████▎| 49.0MB 11.4MB/s eta 0:00:01    99% |███████████████████████████████▊| 49.6MB 9.8MB/s eta 0:00:01\n",
      "\u001b[?25hRequirement already satisfied: scikit-learn==0.19.1 in /opt/conda/lib/python3.6/site-packages (from -r requirements.txt (line 12)) (0.19.1)\n",
      "Requirement already satisfied: six==1.11.0 in /opt/conda/lib/python3.6/site-packages (from -r requirements.txt (line 13)) (1.11.0)\n",
      "Collecting tqdm==4.19.5 (from -r requirements.txt (line 14))\n",
      "\u001b[?25l  Downloading https://files.pythonhosted.org/packages/71/3c/341b4fa23cb3abc335207dba057c790f3bb329f6757e1fcd5d347bcf8308/tqdm-4.19.5-py2.py3-none-any.whl (51kB)\n",
      "\u001b[K    100% |████████████████████████████████| 61kB 4.9MB/s ta 0:00:01\n",
      "\u001b[?25hCollecting osqp (from cvxpy==1.0.3->-r requirements.txt (line 2))\n",
      "\u001b[?25l  Downloading https://files.pythonhosted.org/packages/de/90/aee4a9a72bd8643c0dd2cbc1735c5f4fa9fc6c0131935b60cb167eaeb18b/osqp-0.6.2.post5-cp36-cp36m-manylinux_2_5_x86_64.manylinux1_x86_64.manylinux_2_17_x86_64.manylinux2014_x86_64.whl (232kB)\n",
      "\u001b[K    100% |████████████████████████████████| 235kB 10.4MB/s ta 0:00:01    88% |████████████████████████████▏   | 204kB 12.2MB/s eta 0:00:01\n",
      "\u001b[?25hCollecting ecos>=2 (from cvxpy==1.0.3->-r requirements.txt (line 2))\n",
      "\u001b[?25l  Downloading https://files.pythonhosted.org/packages/08/0c/a9195eb04d6b58572a4379d98661d138066da97fb8dbbdc4e104452e8377/ecos-2.0.10.tar.gz (135kB)\n",
      "\u001b[K    100% |████████████████████████████████| 143kB 4.3MB/s ta 0:00:01\n",
      "\u001b[?25h  Installing build dependencies ... \u001b[?25ldone\n",
      "\u001b[?25hCollecting scs>=1.1.3 (from cvxpy==1.0.3->-r requirements.txt (line 2))\n",
      "\u001b[?25l  Downloading https://files.pythonhosted.org/packages/f0/a4/e3cbddd60818e7e900fd0a8e0f0555692c353be7aa8ca1a8299a05c20699/scs-3.2.0.tar.gz (657kB)\n",
      "\u001b[K    100% |████████████████████████████████| 665kB 7.8MB/s ta 0:00:011    40% |█████████████                   | 266kB 13.5MB/s eta 0:00:01\n",
      "\u001b[?25h  Installing build dependencies ... \u001b[?25ldone\n",
      "\u001b[?25hCollecting multiprocess (from cvxpy==1.0.3->-r requirements.txt (line 2))\n",
      "\u001b[?25l  Downloading https://files.pythonhosted.org/packages/df/d0/c3011a5bb77f307e68682a5046cce1a2c6591267bf24b5bf3fc4130bb39d/multiprocess-0.70.12.2-py36-none-any.whl (106kB)\n",
      "\u001b[K    100% |████████████████████████████████| 112kB 5.3MB/s ta 0:00:01\n",
      "\u001b[?25hRequirement already satisfied: fastcache in /opt/conda/lib/python3.6/site-packages (from cvxpy==1.0.3->-r requirements.txt (line 2)) (1.0.2)\n",
      "Requirement already satisfied: toolz in /opt/conda/lib/python3.6/site-packages (from cvxpy==1.0.3->-r requirements.txt (line 2)) (0.8.2)\n",
      "Requirement already satisfied: decorator>=4.0.6 in /opt/conda/lib/python3.6/site-packages (from plotly==2.2.3->-r requirements.txt (line 6)) (4.0.11)\n",
      "Requirement already satisfied: nbformat>=4.2 in /opt/conda/lib/python3.6/site-packages (from plotly==2.2.3->-r requirements.txt (line 6)) (4.4.0)\n",
      "Requirement already satisfied: chardet<3.1.0,>=3.0.2 in /opt/conda/lib/python3.6/site-packages (from requests==2.18.4->-r requirements.txt (line 10)) (3.0.4)\n",
      "Requirement already satisfied: idna<2.7,>=2.5 in /opt/conda/lib/python3.6/site-packages (from requests==2.18.4->-r requirements.txt (line 10)) (2.6)\n",
      "Requirement already satisfied: urllib3<1.23,>=1.21.1 in /opt/conda/lib/python3.6/site-packages (from requests==2.18.4->-r requirements.txt (line 10)) (1.22)\n",
      "Requirement already satisfied: certifi>=2017.4.17 in /opt/conda/lib/python3.6/site-packages (from requests==2.18.4->-r requirements.txt (line 10)) (2019.11.28)\n",
      "Collecting qdldl (from osqp->cvxpy==1.0.3->-r requirements.txt (line 2))\n",
      "\u001b[?25l  Downloading https://files.pythonhosted.org/packages/ec/a3/db0e7c9fec5387dc33cbd2819329c141ba76497148aa9fab4bd1a7c2a279/qdldl-0.1.5.post0.tar.gz (69kB)\n",
      "\u001b[K    100% |████████████████████████████████| 71kB 2.8MB/s ta 0:00:01    59% |███████████████████             | 40kB 4.6MB/s eta 0:00:01\n",
      "\u001b[?25hCollecting dill>=0.3.4 (from multiprocess->cvxpy==1.0.3->-r requirements.txt (line 2))\n",
      "\u001b[?25l  Downloading https://files.pythonhosted.org/packages/b6/c3/973676ceb86b60835bb3978c6db67a5dc06be6cfdbd14ef0f5a13e3fc9fd/dill-0.3.4-py2.py3-none-any.whl (86kB)\n",
      "\u001b[K    100% |████████████████████████████████| 92kB 5.1MB/s ta 0:00:01\n",
      "\u001b[?25hRequirement already satisfied: traitlets>=4.1 in /opt/conda/lib/python3.6/site-packages (from nbformat>=4.2->plotly==2.2.3->-r requirements.txt (line 6)) (4.3.2)\n",
      "Requirement already satisfied: jupyter-core in /opt/conda/lib/python3.6/site-packages (from nbformat>=4.2->plotly==2.2.3->-r requirements.txt (line 6)) (4.4.0)\n",
      "Requirement already satisfied: jsonschema!=2.5.0,>=2.4 in /opt/conda/lib/python3.6/site-packages (from nbformat>=4.2->plotly==2.2.3->-r requirements.txt (line 6)) (2.6.0)\n",
      "Requirement already satisfied: ipython-genutils in /opt/conda/lib/python3.6/site-packages (from nbformat>=4.2->plotly==2.2.3->-r requirements.txt (line 6)) (0.2.0)\n",
      "Building wheels for collected packages: cvxpy, plotly, ecos, scs, qdldl\n",
      "  Running setup.py bdist_wheel for cvxpy ... \u001b[?25ldone\n",
      "\u001b[?25h  Stored in directory: /root/.cache/pip/wheels/2b/60/0b/0c2596528665e21d698d6f84a3406c52044c7b4ca6ac737cf3\n",
      "  Running setup.py bdist_wheel for plotly ... \u001b[?25ldone\n",
      "\u001b[?25h  Stored in directory: /root/.cache/pip/wheels/98/54/81/dd92d5b0858fac680cd7bdb8800eb26c001dd9f5dc8b1bc0ba\n",
      "  Running setup.py bdist_wheel for ecos ... \u001b[?25ldone\n",
      "\u001b[?25h  Stored in directory: /root/.cache/pip/wheels/34/83/48/2192df21a678bf0fde91e59ec6ff78525bb3d99919397d6a8c\n",
      "  Running setup.py bdist_wheel for scs ... \u001b[?25ldone\n",
      "\u001b[?25h  Stored in directory: /root/.cache/pip/wheels/3e/22/88/9a0da5b5c39fb5a10ad2e7c6192a268487d117770e24233980\n",
      "  Running setup.py bdist_wheel for qdldl ... \u001b[?25ldone\n",
      "\u001b[?25h  Stored in directory: /root/.cache/pip/wheels/a9/77/d6/726fc4a2ae1513b4663b81721f5d75e9b4fe9d74ca7a8a5417\n",
      "Successfully built cvxpy plotly ecos scs qdldl\n",
      "\u001b[31mtensorflow 1.3.0 requires tensorflow-tensorboard<0.2.0,>=0.1.0, which is not installed.\u001b[0m\n",
      "\u001b[31mmoviepy 0.2.3.2 has requirement tqdm==4.11.2, but you'll have tqdm 4.19.5 which is incompatible.\u001b[0m\n",
      "Installing collected packages: numpy, scipy, qdldl, osqp, ecos, scs, dill, multiprocess, cvxpy, pandas, plotly, tqdm\n",
      "  Found existing installation: numpy 1.12.1\n",
      "    Uninstalling numpy-1.12.1:\n",
      "      Successfully uninstalled numpy-1.12.1\n",
      "  Found existing installation: scipy 1.2.1\n",
      "    Uninstalling scipy-1.2.1:\n",
      "      Successfully uninstalled scipy-1.2.1\n",
      "  Found existing installation: dill 0.2.7.1\n",
      "    Uninstalling dill-0.2.7.1:\n",
      "      Successfully uninstalled dill-0.2.7.1\n",
      "  Found existing installation: pandas 0.23.3\n",
      "    Uninstalling pandas-0.23.3:\n",
      "      Successfully uninstalled pandas-0.23.3\n",
      "  Found existing installation: plotly 2.0.15\n",
      "    Uninstalling plotly-2.0.15:\n",
      "      Successfully uninstalled plotly-2.0.15\n",
      "  Found existing installation: tqdm 4.11.2\n",
      "    Uninstalling tqdm-4.11.2:\n",
      "      Successfully uninstalled tqdm-4.11.2\n",
      "Successfully installed cvxpy-1.0.3 dill-0.3.4 ecos-2.0.10 multiprocess-0.70.12.2 numpy-1.14.5 osqp-0.6.2.post5 pandas-0.21.1 plotly-2.2.3 qdldl-0.1.5.post0 scipy-1.0.0 scs-3.2.0 tqdm-4.19.5\n"
     ]
    }
   ],
   "source": [
    "import sys\n",
    "!{sys.executable} -m pip install -r requirements.txt"
   ]
  },
  {
   "cell_type": "markdown",
   "metadata": {},
   "source": [
    "## Imports"
   ]
  },
  {
   "cell_type": "code",
   "execution_count": 2,
   "metadata": {},
   "outputs": [],
   "source": [
    "import cvxpy as cvx\n",
    "import numpy as np\n",
    "import quiz_tests_advanced"
   ]
  },
  {
   "cell_type": "markdown",
   "metadata": {},
   "source": [
    "## What's our objective?\n",
    "http://www.cvxpy.org/\n",
    "\n",
    "Let's see how we can use optimization to meet a more advanced objective.  We want to both minimize the portfolio variance and also want to closely track a market cap weighted index.  In other words, we're trying to minimize the distance between the weights of our portfolio and the weights of the index.\n",
    "\n",
    "$Minimize \\left [ \\sigma^2_p + \\lambda \\sqrt{\\sum_{1}^{m}(weight_i - indexWeight_i)^2} \\right  ]$ where $m$ is the number of stocks in the portfolio, and $\\lambda$ is a scaling factor that you can choose.\n"
   ]
  },
  {
   "cell_type": "markdown",
   "metadata": {},
   "source": [
    "## Hints\n",
    "\n",
    "### x vector\n",
    "To create a vector of M variables $\\mathbf{x} = \\begin{bmatrix}\n",
    "x_1 &...& x_M\n",
    "\\end{bmatrix}\n",
    "$\n",
    "we can use `cvx.Variable(m)`\n",
    "\n",
    "### covariance matrix\n",
    "If we have $m$ stock series, the covariance matrix is an $m \\times m$ matrix containing the covariance between each pair of stocks.  We can use [numpy.cov](https://docs.scipy.org/doc/numpy/reference/generated/numpy.cov.html) to get the covariance.  We give it a 2D array in which each row is a stock series, and each column is an observation at the same period of time.\n",
    "\n",
    "The covariance matrix $\\mathbf{P} = \n",
    "\\begin{bmatrix}\n",
    "\\sigma^2_{1,1} & ... & \\sigma^2_{1,m} \\\\ \n",
    "... & ... & ...\\\\\n",
    "\\sigma_{m,1} & ... & \\sigma^2_{m,m}  \\\\\n",
    "\\end{bmatrix}$"
   ]
  },
  {
   "cell_type": "markdown",
   "metadata": {},
   "source": [
    "### portfolio variance\n",
    "We can write the portfolio variance $\\sigma^2_p = \\mathbf{x^T} \\mathbf{P} \\mathbf{x}$\n",
    "\n",
    "Recall that the $\\mathbf{x^T} \\mathbf{P} \\mathbf{x}$ is called the quadratic form.\n",
    "We can use the cvxpy function `quad_form(x,P)` to get the quadratic form.\n",
    "\n",
    "### Distance from index weights\n",
    "We want portfolio weights that track the index closely.  So we want to minimize the distance between them.\n",
    "Recall from the Pythagorean theorem that you can get the distance between two points in an x,y plane by adding the square of the x and y distances and taking the square root.  Extending this to any number of dimensions is called the L2 norm.  So: $\\sqrt{\\sum_{1}^{n}(weight_i - indexWeight_i)^2}$  Can also be written as $\\left \\| \\mathbf{x} - \\mathbf{index} \\right \\|_2$.  There's a cvxpy function called [norm()](https://www.cvxpy.org/api_reference/cvxpy.atoms.other_atoms.html#norm)\n",
    "`norm(x, p=2, axis=None)`.  The default is already set to find an L2 norm, so you would pass in one argument, which is the difference between your portfolio weights and the index weights.\n",
    "\n",
    "### objective function\n",
    "We want to minimize both the portfolio variance and the distance of the portfolio weights from the index weights.\n",
    "We also want to choose a `scale` constant, which is $\\lambda$ in the expression. This lets us choose how much priority we give to minimizing the difference from the index, relative to minimizing the variance of the portfolio.  If you choose a higher value for `scale` ($\\lambda$), do you think this gives more priority to minimizing the difference, or minimizing the variance?\n",
    "\n",
    "We can find the objective function using cvxpy `objective = cvx.Minimize()`.  Can you guess what to pass into this function?\n",
    "\n",
    "### constraints\n",
    "We can also define our constraints in a list.  For example, you'd want the weights to sum to one. So $\\sum_{1}^{n}x = 1$.  You may also need to go long only, which means no shorting, so no negative weights.  So $x_i >0 $ for all $i$. you could save a variable as `[x >= 0, sum(x) == 1]`, where x was created using `cvx.Variable()`."
   ]
  },
  {
   "cell_type": "markdown",
   "metadata": {},
   "source": [
    "### optimization\n",
    "So now that we have our objective function and constraints, we can solve for the values of $\\mathbf{x}$.\n",
    "cvxpy has the constructor `Problem(objective, constraints)`, which returns a `Problem` object.\n",
    "\n",
    "The `Problem` object has a function solve(), which returns the minimum of the solution.  In this case, this is the minimum variance of the portfolio.\n",
    "\n",
    "It also updates the vector $\\mathbf{x}$.\n",
    "\n",
    "We can check out the values of $x_A$ and $x_B$ that gave the minimum portfolio variance by using `x.value`"
   ]
  },
  {
   "cell_type": "markdown",
   "metadata": {},
   "source": [
    "## Quiz"
   ]
  },
  {
   "cell_type": "code",
   "execution_count": 8,
   "metadata": {},
   "outputs": [
    {
     "name": "stdout",
     "output_type": "stream",
     "text": [
      "Tests Passed\n"
     ]
    }
   ],
   "source": [
    "import cvxpy as cvx\n",
    "import numpy as np\n",
    "\n",
    "def optimize_portfolio(returns, index_weights, scale=.00001):\n",
    "    \"\"\"\n",
    "    Create a function that takes the return series of a set of stocks, the index weights,\n",
    "    and scaling factor. The function will minimize a combination of the portfolio variance\n",
    "    and the distance of its weights from the index weights.  \n",
    "    The optimization will be constrained to be long only, and the weights should sum to one.\n",
    "    \n",
    "    Parameters\n",
    "    ----------\n",
    "    returns : numpy.ndarray\n",
    "        2D array containing stock return series in each row.\n",
    "        \n",
    "    index_weights : numpy.ndarray\n",
    "        1D numpy array containing weights of the index.\n",
    "        \n",
    "    scale : float\n",
    "        The scaling factor applied to the distance between portfolio and index weights\n",
    "        \n",
    "    Returns\n",
    "    -------\n",
    "    x : np.ndarray\n",
    "        A numpy ndarray containing the weights of the stocks in the optimized portfolio\n",
    "    \"\"\"\n",
    "    # TODO: Use cvxpy to determine the weights on the assets\n",
    "    # that minimizes the combination of portfolio variance and distance from index weights\n",
    "    \n",
    "    # number of stocks m is number of rows of returns, and also number of index weights\n",
    "    m = len(index_weights)\n",
    "    \n",
    "    #covariance matrix of returns\n",
    "    cov = np.cov(returns)\n",
    "    \n",
    "    # x variables (to be found with optimization)\n",
    "    x = cvx.Variable(m) \n",
    "    \n",
    "    #portfolio variance, in quadratic form\n",
    "    \n",
    "    portfolio_variance = cvx.quad_form(x, cov)\n",
    "    \n",
    "    # euclidean distance (L2 norm) between portfolio and index weights\n",
    "    distance_to_index = cvx.norm(x-index_weights, p=2, axis=None)\n",
    "    \n",
    "    #objective function\n",
    "    objective = cvx.Minimize(portfolio_variance + scale*distance_to_index)\n",
    "    \n",
    "    #constraints\n",
    "    constraints = [x >= 0, sum(x) == 1]\n",
    "\n",
    "    #use cvxpy to solve the objective\n",
    "    problem = cvx.Problem(objective, constraints)\n",
    "    \n",
    "    result = problem.solve()\n",
    "            \n",
    "    #retrieve the weights of the optimized portfolio\n",
    "    x_values = x.value\n",
    "    \n",
    "    return x_values\n",
    "\n",
    "quiz_tests_advanced.test_optimize_portfolio(optimize_portfolio)"
   ]
  },
  {
   "cell_type": "code",
   "execution_count": 9,
   "metadata": {},
   "outputs": [
    {
     "name": "stdout",
     "output_type": "stream",
     "text": [
      "The optimized weights are [0.86761887 0.11616758 0.01621355], which sum to 1.00\n"
     ]
    }
   ],
   "source": [
    "\"\"\"Test with a 3 simulated stock return series\"\"\"\n",
    "days_per_year = 252\n",
    "years = 3\n",
    "total_days = days_per_year * years\n",
    "\n",
    "return_market = np.random.normal(loc=0.05, scale=0.3, size=days_per_year)\n",
    "return_1 = np.random.uniform(low=-0.000001, high=.000001, size=days_per_year) + return_market\n",
    "return_2 = np.random.uniform(low=-0.000001, high=.000001, size=days_per_year) + return_market\n",
    "return_3 = np.random.uniform(low=-0.000001, high=.000001, size=days_per_year) + return_market\n",
    "returns = np.array([return_1, return_2, return_3])\n",
    "\n",
    "\"\"\"simulate index weights\"\"\"\n",
    "index_weights = np.array([0.9,0.15,0.05])\n",
    "\n",
    "\"\"\"try out your optimization function\"\"\"\n",
    "x_values = optimize_portfolio(returns, index_weights, scale=.00001)\n",
    "\n",
    "print(f\"The optimized weights are {x_values}, which sum to {sum(x_values):.2f}\")"
   ]
  },
  {
   "cell_type": "markdown",
   "metadata": {},
   "source": [
    "If you're feeling stuck, you can check out the solution [here](m3l4_cvxpy_advanced_solution.ipynb)"
   ]
  },
  {
   "cell_type": "code",
   "execution_count": null,
   "metadata": {},
   "outputs": [],
   "source": []
  }
 ],
 "metadata": {
  "kernelspec": {
   "display_name": "Python 3",
   "language": "python",
   "name": "python3"
  },
  "language_info": {
   "codemirror_mode": {
    "name": "ipython",
    "version": 3
   },
   "file_extension": ".py",
   "mimetype": "text/x-python",
   "name": "python",
   "nbconvert_exporter": "python",
   "pygments_lexer": "ipython3",
   "version": "3.6.3"
  }
 },
 "nbformat": 4,
 "nbformat_minor": 2
}
